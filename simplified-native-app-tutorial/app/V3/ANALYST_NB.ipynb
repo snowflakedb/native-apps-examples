{
 "metadata": {
  "kernelspec": {
   "display_name": "Streamlit Notebook",
   "name": "streamlit"
  },
  "lastEditStatus": {
   "notebookId": "ogtujrfknv4nnaiigw73",
   "authorId": "142206637906",
   "authorName": "ADMIN",
   "authorEmail": "john.doe@snowflake.com",
   "sessionId": "ef959836-a8fc-4532-8f7d-57244a356359",
   "lastEditTime": 1751299079778
  }
 },
 "nbformat_minor": 5,
 "nbformat": 4,
 "cells": [
  {
   "cell_type": "code",
   "id": "3775908f-ca36-4846-8f38-5adca39217f2",
   "metadata": {
    "language": "python",
    "name": "cell1"
   },
   "source": "# Import python packages\nimport streamlit as st\nimport pandas as pd\n\n# We can also use Snowpark for our analyses!\nfrom snowflake.snowpark.context import get_active_session\nsession = get_active_session()\n",
   "execution_count": null,
   "outputs": []
  },
  {
   "cell_type": "code",
   "id": "8d50cbf4-0c8d-4950-86cb-114990437ac9",
   "metadata": {
    "language": "python",
    "name": "cell2"
   },
   "source": "query = \"\"\"\nSELECT COUNTRY_NAME, COUNTRY_CODE, (MAX(VALUE) - MIN(VALUE))/MIN(VALUE) as Increase  FROM DATA_SCHEMA.COUNTRY_POP_BY_YEAR_2000 GROUP BY 1, 2\n\"\"\"\n\nmy_df = session.sql(query).to_pandas()\nmy_df",
   "execution_count": null,
   "outputs": []
  },
  {
   "cell_type": "code",
   "id": "c695373e-ac74-4b62-a1f1-08206cbd5c81",
   "metadata": {
    "language": "python",
    "name": "cell3"
   },
   "source": "st.subheader(\"Population Increase Since 2000\")\nst.dataframe(my_df, column_config={\n        \"INCREASE\": st.column_config.ProgressColumn(\n            \"Population Increase since 2000\",\n            format=\"percent\",\n            min_value=0,\n            max_value=2,\n        ),\n    })",
   "execution_count": null,
   "outputs": []
  }
 ]
}