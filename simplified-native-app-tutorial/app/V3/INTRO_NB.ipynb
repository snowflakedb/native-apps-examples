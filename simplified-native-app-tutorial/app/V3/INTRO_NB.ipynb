{
 "metadata": {
  "kernelspec": {
   "display_name": "Intro Notebook",
   "name": "intro_notebook"
  },
  "lastEditStatus": {
   "notebookId": "xyslljibj7cj3pdua6fo",
   "authorId": "142206637906",
   "authorName": "ADMIN",
   "authorEmail": "john.doe@snowflake.com",
   "sessionId": "c13af7b4-9c7e-4702-8600-96fe9b458184",
   "lastEditTime": 1751298028089
  }
 },
 "nbformat_minor": 5,
 "nbformat": 4,
 "cells": [
  {
   "cell_type": "code",
   "id": "3775908f-ca36-4846-8f38-5adca39217f2",
   "metadata": {
    "language": "python",
    "name": "Init"
   },
   "source": "# Import python packages\nimport streamlit as st\nimport pandas as pd\n\n# We can also use Snowpark for our analyses!\nfrom snowflake.snowpark.context import get_active_session\nsession = get_active_session()\n",
   "execution_count": null,
   "outputs": []
  },
  {
   "cell_type": "code",
   "id": "8d50cbf4-0c8d-4950-86cb-114990437ac9",
   "metadata": {
    "language": "python",
    "name": "data_frame"
   },
   "source": "query = \"\"\"\nSELECT COUNTRY_NAME, COUNTRY_CODE, YEAR::string as year, VALUE  FROM DATA_SCHEMA.COUNTRY_POP_BY_YEAR_2000 WHERE COUNTRY_CODE IN ('CAN', 'USA', 'MEX')\n\"\"\"\n\nmy_df = session.sql(query).to_pandas()\nmy_df",
   "execution_count": null,
   "outputs": []
  },
  {
   "cell_type": "code",
   "id": "c695373e-ac74-4b62-a1f1-08206cbd5c81",
   "metadata": {
    "language": "python",
    "name": "Summary"
   },
   "source": "st.subheader(\"Population in North America\")\nst.bar_chart(my_df, x='YEAR', y='VALUE', color=\"COUNTRY_CODE\")",
   "execution_count": null,
   "outputs": []
  }
 ]
}